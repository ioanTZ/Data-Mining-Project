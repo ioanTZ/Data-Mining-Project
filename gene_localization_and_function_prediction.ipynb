{
  "cells": [
    {
      "cell_type": "code",
      "execution_count": null,
      "metadata": {
        "id": "TKcGAYj6BsyT"
      },
      "outputs": [],
      "source": [
        "!unzip -o gene_prediction_data.zip > /dev/null"
      ]
    },
    {
      "cell_type": "code",
      "execution_count": null,
      "metadata": {
        "id": "MIMJr__G8IvW",
        "cellView": "form"
      },
      "outputs": [],
      "source": [
        "#@title Provide information about the gene\n",
        "\n",
        "Essential = 'Ambiguous-Essential' #@param ['Non-Essential', 'Ambiguous-Essential', '?', 'Essential']\n",
        "Class = 'Ubiquitin-system proteins' #@param['Histones', 'Peptidyl-Prolyl-Isomerases', 'Protein Kinases', '?', 'Major facilitator superfamily proteins (MFS)', 'Protein phosphatases', 'Polymerases', 'GTP/GDP-exchange factors (GEFs)', 'Other kinases', 'Ubiquitin-system proteins', 'GTP/GDP dissociation inhibitors (GDIs)', 'Transcription factors', 'Nucleases', 'Motorproteins', 'Cyclins', 'Adaptins', 'Molecular chaperones', 'Tubulins', 'ATPases', 'Unknown', 'Proteases', 'GTPase activating proteins (GAPs)', 'Actin related proteins', 'GTP-binding proteins']\n",
        "Complex = 'Transcription complexes/Transcriptosome' #@param['Glucan synthases', 'Serine/threonine phoshpoprotein phosphatase', 'delta3-cis-delta2-trans-enoyl-CoA isomerase', 'Translation complexes', 'Arginase', 'Endonuclease SceI, mitochondrial', 'Proteases, mitochondrial', 'Sister chromatid cohesion regulation complex', 'Phosphofructokinase', '?', 'Replication complexes', 'Gim complexes', 'Histone acetyltransferase complexes', 'Alpha, alpha-trehalose-phosphate synthase', 'L-aminopadipate-semialdehyde dehydrogenase', 'Fatty acid synthetase, cytoplasmic', 'Pyruvate kinase', 'Transcription complexes/Transcriptosome', 'SCF (Skp1-Cdc53-F-box protein) complexes', 'Nonsense-mediated mRNA decay pathway complex', 'cAMP-dependent protein kinase', 'RSC complex (Remodel the structure of chromatin)', 'Casein kinase', 'Nucleosomal protein complex', 'Intracellular transport complexes', 'Prenyltransferases', 'Arginine-specific carbamoylphosphate synthase', 'Nuclear pore complex (NPC)', 'Assembly complexes', 'Kinetochore protein complexes', 'Translocon', 'Chaperonine containing T-complex TRiC (TCP RING Complex)', 'Synaptonemal complex (SC)', 'Ribonucleoside-diphosphate reductase', 'Kel1p/Kel2p complex', 'Pyruvate dehydrogenase', 'Succinyl-CoA ligase', 'Acetolactate synthase', '2-oxoglutarate dehydrogenase', 'Unknown', 'Anaphase promoting complex (APC)', 'Histone deacetylase complexes', 'Cytoskeleton', 'Proteasome', 'Cyclin-CDK (Cyclin-dependent kinases) complexes', 'RNA processing complexes', 'Mitochondrial translocase complex', 'Exocyst complex', 'Nem1p-Spo7p complex', 'H+-transporting ATPase, vacuolar', 'Respiration chain complexes', 'Calcineurin B']\n",
        "Motif = 'PS00951' #@param {type:\"string\"}\n",
        "Phenotype = 'Sensitivity to immunosuppressants' #@param['Conditional phenotypes', 'Nucleic acid metabolism defects', 'Cell morphology and organelle mutants', 'Sensitivity to aminoacid analogs and other drugs', 'Auxotrophies, carbon and', 'Carbohydrate and lipid biosynthesis defects', 'Sensitivity to antibiotics', 'Mating and sporulation defects', 'Sensitivity to immunosuppressants', 'Stress response defects', 'Cell cycle defects', '?']\n",
        "\n",
        "Chromosome_number = 16 #@param {type:\"slider\", min:1, max:16, step:1}\n"
      ]
    },
    {
      "cell_type": "markdown",
      "source": [],
      "metadata": {
        "id": "b_7UZ6L55Csn"
      }
    },
    {
      "cell_type": "markdown",
      "metadata": {
        "id": "kG4Y1AGKcz8n"
      },
      "source": [
        "### If you want to add information about gene interactions\n",
        "### Press the run button on the next cell and Add the gene IDs of the genes which interact with the gene you provided,\n",
        "### along with their interaction coefficient.\n",
        "### example:\n",
        "### G234565 : 0.87259026 <br>\n",
        "### G235528 : 0.9679347\n",
        "\n"
      ]
    },
    {
      "cell_type": "code",
      "execution_count": null,
      "metadata": {
        "cellView": "form",
        "id": "k7qjzIvqeckK",
        "colab": {
          "base_uri": "https://localhost:8080/"
        },
        "outputId": "71e1acd3-20e1-4304-8d65-f2873b3c1934"
      },
      "outputs": [
        {
          "name": "stdout",
          "output_type": "stream",
          "text": [
            "Enter Interactions. Press Ctrl-D or Ctrl-Z  to save it.\n",
            "\u0004\n"
          ]
        }
      ],
      "source": [
        "#@title\n",
        "print(\"Enter Interactions. Press Ctrl-D or Ctrl-Z  to save it.\")\n",
        "interactions = []\n",
        "while True:\n",
        "    try:\n",
        "        line = input()\n",
        "    except EOFError:\n",
        "        break\n",
        "    interactions.append(line)"
      ]
    },
    {
      "cell_type": "code",
      "execution_count": null,
      "metadata": {
        "id": "AOo-OctHd51g"
      },
      "outputs": [],
      "source": [
        "#@title\n",
        "interactions_dict = {}\n",
        "if(interactions_dict):\n",
        "  for interaction in interactions:\n",
        "    info = interaction.split(\":\")\n",
        "    interactions_dict[info[0]] = info[1]"
      ]
    },
    {
      "cell_type": "code",
      "execution_count": null,
      "metadata": {
        "id": "HoqVcvsVyzwG"
      },
      "outputs": [],
      "source": [
        "#@title What do you want to predict\n",
        "\n",
        "target = 'Function' #@param ['Localization', 'Function']"
      ]
    },
    {
      "cell_type": "code",
      "source": [
        "#@title\n",
        "import pandas as pd\n",
        "import pickle\n",
        "\n",
        "\n",
        "def predict_localization_no_interactions(candidate_gene_series):\n",
        "  localization_model = 'gene_prediction_data/models/svm_popular_localization.pickle'\n",
        "  svm_popular_localization = pickle.load(open(localization_model, \"rb\"))\n",
        "\n",
        "  return svm_popular_localization.predict([candidate_gene])\n",
        "\n",
        "\n",
        "def predict_function_no_interactions(candidate_gene_series):\n",
        "  function_model = 'gene_prediction_data/models/svm_popular_function.pickle'\n",
        "  svm_popular_function = pickle.load(open(function_model, \"rb\"))\n",
        "\n",
        "  return svm_popular_function.predict([candidate_gene_series])\n",
        "\n",
        "\n",
        "from sklearn.neighbors import KNeighborsClassifier\n",
        "from sklearn.metrics import jaccard_score\n",
        "\n",
        "def custom_distance_interactions(a, b, **kwargs):\n",
        "\n",
        "    similarity = 0\n",
        "\n",
        "    interactions_dict = kwargs['interactions']\n",
        "\n",
        "    gene_id_b = \"G2\" + str(int(b[-1]))\n",
        "\n",
        "    # print(int(a[-1]))\n",
        "    # print(gene_id)\n",
        "    if(gene_id_b in interactions_dict.keys()):\n",
        "            similarity += abs(float(interactions_dict[gene_id_b]) * kwargs[\"interactions_coefficient\"])\n",
        "\n",
        "    similarity += jaccard_score(a[:-1], b[:-1])\n",
        "\n",
        "    return 2 - similarity\n",
        "\n",
        "def predict_with_interactions(candidate_gene_series, target_feature='Localization'):\n",
        "  target_localization = pd.read_csv(\"gene_prediction_data/target_localization.csv\").iloc[: , 1:]\n",
        "  target_function = pd.read_csv(\"gene_prediction_data/target_function.csv\").iloc[: , 1:]\n",
        "\n",
        "\n",
        "  all_data = pd.read_csv(\"gene_prediction_data/gene_data_most_popular.csv\")\n",
        "\n",
        "  IDs = all_data['Gene ID']\n",
        "  X = all_data.drop('Gene ID', axis=1)\n",
        "  X = X.append(candidate_gene_series, ignore_index=True)\n",
        "  IDs = [float(ID.replace(\"G2\", \"\")) for ID in IDs]\n",
        "  IDs.append(0.0)\n",
        "\n",
        "  X = pd.get_dummies(X, dtype=float)\n",
        "\n",
        "  X['Gene ID'] = IDs\n",
        "\n",
        "  candidate_gene = X.iloc[-1]\n",
        "\n",
        "  X_train = X.iloc[0:4346]\n",
        "  target_localization = target_localization.iloc[0:4346]\n",
        "  target_function = target_function.iloc[0:4346]\n",
        "\n",
        "  X_train.head()\n",
        "  if(target_feature == 'Localization'):\n",
        "    knn_localization = KNeighborsClassifier(metric=custom_distance_interactions, metric_params={\"interactions\":interactions_dict, \"interactions_coefficient\":1})\n",
        "    knn_localization.fit(X_train, target_localization)\n",
        "    return knn_localization.predict([candidate_gene])\n",
        "\n",
        "  elif(target_feature == 'Function'):\n",
        "    knn_function = KNeighborsClassifier(metric=custom_distance_interactions, metric_params={\"interactions\":interactions_dict, \"interactions_coefficient\":1})\n",
        "    knn_function.fit(X_train, target_function)\n",
        "    # return target_function\n",
        "    return knn_function.predict([candidate_gene])\n",
        "\n",
        "train_data = pd.read_csv(\"gene_prediction_data/gene_data_most_popular.csv\").drop(\"Gene ID\", axis=1)\n",
        "candidate_gene_series = pd.Series(data=[Essential, Class, Complex, Phenotype, Motif, str(Chromosome_number)], index = ['Essential', 'Class', 'Complex', 'Phenotype', 'Motif', 'Chromosome Number'])\n",
        "\n",
        "print(len(set(train_data['Chromosome Number'])))\n",
        "print(set(train_data['Chromosome Number']))\n",
        "## check if all the provided data exist in the training set\n",
        "for indx, values in candidate_gene_series.items():\n",
        "  if(values not in set(list(train_data[indx]))):\n",
        "    candidate_gene_series[indx] = '?'\n",
        "\n",
        "## append the datapoint to the larger dataset to get the right dummy variables\n",
        "appended_data = train_data.append(candidate_gene_series, ignore_index=True)\n",
        "dummies_data = pd.get_dummies(appended_data)\n",
        "candidate_gene = dummies_data.iloc[-1]\n",
        "\n",
        "if(len(interactions) == 0):\n",
        "  if(target == 'Localization'):\n",
        "    prediction = predict_localization_no_interactions(candidate_gene)\n",
        "  elif(target == 'Function'):\n",
        "    prediction = predict_function_no_interactions(candidate_gene)\n",
        "else:\n",
        "  if(target =='Localization'):\n",
        "    prediction = predict_with_interactions(candidate_gene_series, target_feature='Localization')\n",
        "  elif(target == 'Function'):\n",
        "    prediction = predict_with_interactions(candidate_gene_series, target_feature='Function')\n"
      ],
      "metadata": {
        "id": "0n0SptkuPJBP",
        "colab": {
          "base_uri": "https://localhost:8080/"
        },
        "outputId": "e146da67-39a0-4545-e3e2-53adedc54a68"
      },
      "execution_count": null,
      "outputs": [
        {
          "output_type": "stream",
          "name": "stdout",
          "text": [
            "17\n",
            "{'6', '7', '10', '8', '3', '9', '15', '4', '1', '11', '12', '14', '16', '5', '?', '2', '13'}\n"
          ]
        },
        {
          "output_type": "stream",
          "name": "stderr",
          "text": [
            "<ipython-input-15-8318e4b29a0f>:86: FutureWarning: The frame.append method is deprecated and will be removed from pandas in a future version. Use pandas.concat instead.\n",
            "  appended_data = train_data.append(candidate_gene_series, ignore_index=True)\n",
            "/usr/local/lib/python3.10/dist-packages/sklearn/base.py:318: UserWarning: Trying to unpickle estimator SVC from version 0.24.2 when using version 1.2.2. This might lead to breaking code or invalid results. Use at your own risk. For more info please refer to:\n",
            "https://scikit-learn.org/stable/model_persistence.html#security-maintainability-limitations\n",
            "  warnings.warn(\n"
          ]
        }
      ]
    },
    {
      "cell_type": "code",
      "execution_count": null,
      "metadata": {
        "id": "UOrZnLxE-yLg",
        "cellView": "form",
        "colab": {
          "base_uri": "https://localhost:8080/"
        },
        "outputId": "23e34351-7b93-4a11-9206-4815d4a9dc37"
      },
      "outputs": [
        {
          "output_type": "stream",
          "name": "stdout",
          "text": [
            "The most probable function of the gene is: CELLULAR ORGANIZATION (proteins are localized to the corresponding organelle)\n"
          ]
        }
      ],
      "source": [
        "#@title\n",
        "if(target == \"Localization\"):\n",
        "  print(\"The most probable localization of the gene is:\", end=\" \")\n",
        "elif(target == 'Function'):\n",
        "  print(\"The most probable function of the gene is:\", end=\" \")\n",
        "\n",
        "print(prediction[0])"
      ]
    }
  ],
  "metadata": {
    "colab": {
      "provenance": []
    },
    "kernelspec": {
      "display_name": "Python 3",
      "name": "python3"
    },
    "language_info": {
      "name": "python"
    }
  },
  "nbformat": 4,
  "nbformat_minor": 0
}